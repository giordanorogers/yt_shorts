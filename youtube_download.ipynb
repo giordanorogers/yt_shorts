{
 "cells": [
  {
   "cell_type": "code",
   "execution_count": 6,
   "id": "36002b5b",
   "metadata": {},
   "outputs": [
    {
     "name": "stdout",
     "output_type": "stream",
     "text": [
      "[youtube] Extracting URL: https://www.youtube.com/watch?v=vRQs7qfIDaU\n",
      "[youtube] vRQs7qfIDaU: Downloading webpage\n",
      "[youtube] vRQs7qfIDaU: Downloading tv client config\n",
      "[youtube] vRQs7qfIDaU: Downloading tv player API JSON\n",
      "[youtube] vRQs7qfIDaU: Downloading ios player API JSON\n",
      "[youtube] vRQs7qfIDaU: Downloading m3u8 information\n",
      "[info] vRQs7qfIDaU: Downloading subtitles: en\n",
      "[info] vRQs7qfIDaU: Downloading 1 format(s): 137+140\n",
      "[info] Writing video subtitles to: downloads/Stanford CS25： V5 I On the Biology of a Large Language Model, Josh Batson of Anthropic.en.vtt\n",
      "[download] Destination: downloads/Stanford CS25： V5 I On the Biology of a Large Language Model, Josh Batson of Anthropic.en.vtt\n",
      "[download] 100% of  626.07KiB in 00:00:00 at 3.59MiB/s\n",
      "[download] Destination: downloads/Stanford CS25： V5 I On the Biology of a Large Language Model, Josh Batson of Anthropic.f137.mp4\n",
      "[download] 100% of  125.63MiB in 00:00:20 at 6.03MiB/s     \n",
      "[download] Destination: downloads/Stanford CS25： V5 I On the Biology of a Large Language Model, Josh Batson of Anthropic.f140.m4a\n",
      "[download] 100% of   67.17MiB in 00:00:25 at 2.66MiB/s     \n",
      "[Merger] Merging formats into \"downloads/Stanford CS25： V5 I On the Biology of a Large Language Model, Josh Batson of Anthropic.mp4\"\n",
      "Deleting original file downloads/Stanford CS25： V5 I On the Biology of a Large Language Model, Josh Batson of Anthropic.f137.mp4 (pass -k to keep)\n",
      "Deleting original file downloads/Stanford CS25： V5 I On the Biology of a Large Language Model, Josh Batson of Anthropic.f140.m4a (pass -k to keep)\n",
      "Downloaded via yt-dlp\n"
     ]
    }
   ],
   "source": [
    "import yt_dlp\n",
    "\n",
    "def download_with_ytdlp(link, out_folder=\"downloads/\"):\n",
    "    ydl_opts = {\n",
    "        # Video Options\n",
    "        'format': 'bestvideo[ext=mp4][vcodec^=avc1]+bestaudio[ext=m4a]/mp4',\n",
    "        'outtmpl': out_folder + '%(title)s.%(ext)s',\n",
    "        'merge_output_format': 'mp4',\n",
    "\n",
    "        # Subtitle Options\n",
    "        'writesubtitles': True,          # download manually-created captions if available\n",
    "        'writeautomaticsub': True,       # download auto-generated captions\n",
    "        'subtitleslangs': ['en'],        # list of ISO language codes you want\n",
    "        'subtitlesformat': 'vtt',        # or 'srt'\n",
    "    }\n",
    "    with yt_dlp.YoutubeDL(ydl_opts) as ydl:\n",
    "        ydl.download([link])\n",
    "\n",
    "if __name__ == \"__main__\":\n",
    "    url = \"https://www.youtube.com/watch?v=vRQs7qfIDaU\"\n",
    "    try:\n",
    "        download_with_ytdlp(url)\n",
    "        print(\"Downloaded via yt-dlp\")\n",
    "    except Exception as e:\n",
    "        print(\"yt-dlp failed:\", e)"
   ]
  },
  {
   "cell_type": "code",
   "execution_count": 2,
   "id": "f8ff4f76",
   "metadata": {},
   "outputs": [
    {
     "name": "stdout",
     "output_type": "stream",
     "text": [
      "[youtube] Extracting URL: https://www.youtube.com/watch?v=3gb-ZkVRemQ\n",
      "[youtube] 3gb-ZkVRemQ: Downloading webpage\n",
      "[youtube] 3gb-ZkVRemQ: Downloading tv client config\n",
      "[youtube] 3gb-ZkVRemQ: Downloading tv player API JSON\n",
      "[youtube] 3gb-ZkVRemQ: Downloading ios player API JSON\n",
      "[youtube] 3gb-ZkVRemQ: Downloading m3u8 information\n",
      "[info] Testing format 616\n",
      "[info] 3gb-ZkVRemQ: Downloading 1 format(s): 616+251\n",
      "[hlsnative] Downloading m3u8 manifest\n",
      "[hlsnative] Total fragments: 840\n",
      "[download] Destination: downloads/Stanford CS25： V4 I Jason Wei & Hyung Won Chung of OpenAI.f616.mp4\n",
      "[download] 100% of  615.09MiB in 00:04:11 at 2.44MiB/s                   \n",
      "[download] Destination: downloads/Stanford CS25： V4 I Jason Wei & Hyung Won Chung of OpenAI.f251.webm\n",
      "[download] 100% of   53.95MiB in 00:00:03 at 17.37MiB/s     \n",
      "[Merger] Merging formats into \"downloads/Stanford CS25： V4 I Jason Wei & Hyung Won Chung of OpenAI.mp4\"\n",
      "Deleting original file downloads/Stanford CS25： V4 I Jason Wei & Hyung Won Chung of OpenAI.f251.webm (pass -k to keep)\n",
      "Deleting original file downloads/Stanford CS25： V4 I Jason Wei & Hyung Won Chung of OpenAI.f616.mp4 (pass -k to keep)\n",
      "Downloaded via yt-dlp\n"
     ]
    }
   ],
   "source": [
    "import yt_dlp\n",
    "\n",
    "def download_with_ytdlp(link, out_folder=\"downloads/\"):\n",
    "    ydl_opts = {\n",
    "        'format': 'bestvideo+bestaudio/best',\n",
    "        'outtmpl': out_folder + '%(title)s.%(ext)s',\n",
    "        'merge_output_format': 'mp4',\n",
    "    }\n",
    "    with yt_dlp.YoutubeDL(ydl_opts) as ydl:\n",
    "        ydl.download([link])\n",
    "\n",
    "if __name__ == \"__main__\":\n",
    "    url = \"https://www.youtube.com/watch?v=3gb-ZkVRemQ\"\n",
    "    try:\n",
    "        download_with_ytdlp(url)\n",
    "        print(\"Downloaded via yt-dlp\")\n",
    "    except Exception as e:\n",
    "        print(\"yt-dlp failed:\", e)"
   ]
  },
  {
   "cell_type": "code",
   "execution_count": 4,
   "id": "25f8c3a8",
   "metadata": {},
   "outputs": [
    {
     "name": "stdout",
     "output_type": "stream",
     "text": [
      "[youtube] Extracting URL: https://www.youtube.com/watch?v=pC4zRb_5noQ\n",
      "[youtube] pC4zRb_5noQ: Downloading webpage\n",
      "[youtube] pC4zRb_5noQ: Downloading tv client config\n",
      "[youtube] pC4zRb_5noQ: Downloading tv player API JSON\n",
      "[youtube] pC4zRb_5noQ: Downloading ios player API JSON\n",
      "[youtube] pC4zRb_5noQ: Downloading m3u8 information\n",
      "[info] pC4zRb_5noQ: Downloading 1 format(s): 137+140\n",
      "[download] Destination: downloads/Stanford CS25： V1 I Transformer Circuits, Induction Heads, In-Context Learning.f137.mp4\n",
      "[download] 100% of  110.10MiB in 00:00:08 at 12.36MiB/s    \n",
      "[download] Destination: downloads/Stanford CS25： V1 I Transformer Circuits, Induction Heads, In-Context Learning.f140.m4a\n",
      "[download] 100% of   55.16MiB in 00:00:07 at 7.06MiB/s     \n",
      "[Merger] Merging formats into \"downloads/Stanford CS25： V1 I Transformer Circuits, Induction Heads, In-Context Learning.mp4\"\n",
      "Deleting original file downloads/Stanford CS25： V1 I Transformer Circuits, Induction Heads, In-Context Learning.f137.mp4 (pass -k to keep)\n",
      "Deleting original file downloads/Stanford CS25： V1 I Transformer Circuits, Induction Heads, In-Context Learning.f140.m4a (pass -k to keep)\n",
      "Downloaded via yt-dlp\n"
     ]
    }
   ],
   "source": [
    "import yt_dlp\n",
    "\n",
    "def download_with_ytdlp(link, out_folder=\"downloads/\"):\n",
    "    ydl_opts = {\n",
    "        'format': 'bestvideo[ext=mp4][vcodec^=avc1]+bestaudio[ext=m4a]/mp4',\n",
    "        'outtmpl': out_folder + '%(title)s.%(ext)s',\n",
    "        'merge_output_format': 'mp4',\n",
    "    }\n",
    "    with yt_dlp.YoutubeDL(ydl_opts) as ydl:\n",
    "        ydl.download([link])\n",
    "\n",
    "if __name__ == \"__main__\":\n",
    "    url = \"https://www.youtube.com/watch?v=pC4zRb_5noQ\"\n",
    "    try:\n",
    "        download_with_ytdlp(url)\n",
    "        print(\"Downloaded via yt-dlp\")\n",
    "    except Exception as e:\n",
    "        print(\"yt-dlp failed:\", e)"
   ]
  },
  {
   "cell_type": "code",
   "execution_count": null,
   "id": "0170c59e",
   "metadata": {},
   "outputs": [],
   "source": []
  }
 ],
 "metadata": {
  "kernelspec": {
   "display_name": "exp-env",
   "language": "python",
   "name": "python3"
  },
  "language_info": {
   "codemirror_mode": {
    "name": "ipython",
    "version": 3
   },
   "file_extension": ".py",
   "mimetype": "text/x-python",
   "name": "python",
   "nbconvert_exporter": "python",
   "pygments_lexer": "ipython3",
   "version": "3.11.11"
  }
 },
 "nbformat": 4,
 "nbformat_minor": 5
}
